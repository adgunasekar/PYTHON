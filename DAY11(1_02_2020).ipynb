{
  "nbformat": 4,
  "nbformat_minor": 0,
  "metadata": {
    "colab": {
      "name": "DAY11(1-02-2020)",
      "provenance": [],
      "authorship_tag": "ABX9TyMFUViajyCv1+TMZJzmkXUk",
      "include_colab_link": true
    },
    "kernelspec": {
      "name": "python3",
      "display_name": "Python 3"
    }
  },
  "cells": [
    {
      "cell_type": "markdown",
      "metadata": {
        "id": "view-in-github",
        "colab_type": "text"
      },
      "source": [
        "<a href=\"https://colab.research.google.com/github/adgunasekar/PYTHON/blob/master/DAY11(1_02_2020).ipynb\" target=\"_parent\"><img src=\"https://colab.research.google.com/assets/colab-badge.svg\" alt=\"Open In Colab\"/></a>"
      ]
    },
    {
      "cell_type": "code",
      "metadata": {
        "id": "VA-MaoTp4oXm",
        "colab_type": "code",
        "colab": {}
      },
      "source": [
        ""
      ],
      "execution_count": 0,
      "outputs": []
    },
    {
      "cell_type": "markdown",
      "metadata": {
        "id": "MzRnZ-Ah6tfd",
        "colab_type": "text"
      },
      "source": [
        "# TUPLE\n",
        "- Paranthesis() --> tuple and square brackets[] -->list\n",
        "- difference b/w list and tuple\n",
        "     - list are mutable- can be changed/modified\n",
        "     - list used to access,modify,add,delete\n",
        "     - tuples are immutable\n",
        "     - used to access data\n"
      ]
    },
    {
      "cell_type": "code",
      "metadata": {
        "id": "oSIzqWtC70o_",
        "colab_type": "code",
        "colab": {
          "base_uri": "https://localhost:8080/",
          "height": 34
        },
        "outputId": "e90294d2-763b-466e-e549-3492dd0f7ab0"
      },
      "source": [
        "t1 = (1,2,3,4,5,6)\n",
        "t1"
      ],
      "execution_count": 1,
      "outputs": [
        {
          "output_type": "execute_result",
          "data": {
            "text/plain": [
              "(1, 2, 3, 4, 5, 6)"
            ]
          },
          "metadata": {
            "tags": []
          },
          "execution_count": 1
        }
      ]
    },
    {
      "cell_type": "code",
      "metadata": {
        "id": "XW3PYY6R_zjt",
        "colab_type": "code",
        "colab": {
          "base_uri": "https://localhost:8080/",
          "height": 51
        },
        "outputId": "f61d2274-58a1-424f-b5b3-66333cd00224"
      },
      "source": [
        "t1 = (1,2,3,4,5,6)\n",
        "t2 = (1,3,5,7)\n",
        "print(t1,type(t1))\n",
        "print(t2,type(t2))"
      ],
      "execution_count": 4,
      "outputs": [
        {
          "output_type": "stream",
          "text": [
            "(1, 2, 3, 4, 5, 6) <class 'tuple'>\n",
            "(1, 3, 5, 7) <class 'tuple'>\n"
          ],
          "name": "stdout"
        }
      ]
    },
    {
      "cell_type": "code",
      "metadata": {
        "id": "N5-GrtuDAays",
        "colab_type": "code",
        "colab": {}
      },
      "source": [
        ""
      ],
      "execution_count": 0,
      "outputs": []
    },
    {
      "cell_type": "markdown",
      "metadata": {
        "id": "TpbLcD9BAoB4",
        "colab_type": "text"
      },
      "source": [
        "# dictionaries\n",
        "- it works on the concepts of set unique data\n",
        "- keys,values are the unique identifier for a value\n",
        "- each key is seperated from its values with colon(:)\n",
        "- each key and value are seperated by comma(,)\n",
        "- dictionaries enclosed with curly braces{}\n"
      ]
    },
    {
      "cell_type": "code",
      "metadata": {
        "id": "-YzzAL6fB7Ky",
        "colab_type": "code",
        "colab": {
          "base_uri": "https://localhost:8080/",
          "height": 34
        },
        "outputId": "bc25bc3f-914e-44d1-c7b6-6e93122daf36"
      },
      "source": [
        "# create dictionary\n",
        "d1 = {\"name\":\"jntua\",\"emailid\":\"jntua@gmail.com\",\"address\":\"ananthapur\"}\n",
        "d1"
      ],
      "execution_count": 5,
      "outputs": [
        {
          "output_type": "execute_result",
          "data": {
            "text/plain": [
              "{'address': 'ananthapur', 'emailid': 'jntua@gmail.com', 'name': 'jntua'}"
            ]
          },
          "metadata": {
            "tags": []
          },
          "execution_count": 5
        }
      ]
    },
    {
      "cell_type": "code",
      "metadata": {
        "id": "SSaX9o6sDNMd",
        "colab_type": "code",
        "colab": {
          "base_uri": "https://localhost:8080/",
          "height": 34
        },
        "outputId": "55d6ab21-10f0-48b0-c7d2-7ca640798471"
      },
      "source": [
        "d1 = {\"name\":\"jntua\",\"emailid\":\"jntua@gmail.com\",\"address\":\"ananthapur\"}\n",
        "print(d1)"
      ],
      "execution_count": 6,
      "outputs": [
        {
          "output_type": "stream",
          "text": [
            "{'name': 'jntua', 'emailid': 'jntua@gmail.com', 'address': 'ananthapur'}\n"
          ],
          "name": "stdout"
        }
      ]
    },
    {
      "cell_type": "code",
      "metadata": {
        "id": "eW3PrVR3Daws",
        "colab_type": "code",
        "colab": {
          "base_uri": "https://localhost:8080/",
          "height": 34
        },
        "outputId": "b034b191-1ede-4070-cda1-4c80eaf0028b"
      },
      "source": [
        "# read dictionary\n",
        "d1 = {\"name\":\"jntua\",\"emailid\":\"jntua@gmail.com\",\"address\":\"ananthapur\"}\n",
        "d1.keys()"
      ],
      "execution_count": 7,
      "outputs": [
        {
          "output_type": "execute_result",
          "data": {
            "text/plain": [
              "dict_keys(['name', 'emailid', 'address'])"
            ]
          },
          "metadata": {
            "tags": []
          },
          "execution_count": 7
        }
      ]
    },
    {
      "cell_type": "code",
      "metadata": {
        "id": "6c35Y55hEfIc",
        "colab_type": "code",
        "colab": {
          "base_uri": "https://localhost:8080/",
          "height": 34
        },
        "outputId": "8535038a-cd95-4f59-f902-8ec755547a30"
      },
      "source": [
        "d1 = {\"name\":\"jntua\",\"emailid\":\"jntua@gmail.com\",\"address\":\"ananthapur\"}\n",
        "d1.values()"
      ],
      "execution_count": 9,
      "outputs": [
        {
          "output_type": "execute_result",
          "data": {
            "text/plain": [
              "dict_values(['jntua', 'jntua@gmail.com', 'ananthapur'])"
            ]
          },
          "metadata": {
            "tags": []
          },
          "execution_count": 9
        }
      ]
    },
    {
      "cell_type": "code",
      "metadata": {
        "id": "C3rB8PFvEiN8",
        "colab_type": "code",
        "colab": {
          "base_uri": "https://localhost:8080/",
          "height": 34
        },
        "outputId": "7ca832d2-1165-4b75-d4b6-e813550ac223"
      },
      "source": [
        "# for accessing a single key\n",
        "d1[\"name\"]"
      ],
      "execution_count": 11,
      "outputs": [
        {
          "output_type": "execute_result",
          "data": {
            "text/plain": [
              "'jntua'"
            ]
          },
          "metadata": {
            "tags": []
          },
          "execution_count": 11
        }
      ]
    },
    {
      "cell_type": "code",
      "metadata": {
        "id": "MSAfQXRaE0Jc",
        "colab_type": "code",
        "colab": {
          "base_uri": "https://localhost:8080/",
          "height": 34
        },
        "outputId": "a68d4980-e5ab-4d01-d596-19ab5edf2bd9"
      },
      "source": [
        "# update dictionary\n",
        "d1 = {\"name\":\"jntua\",\"emailid\":\"jntua@gmail.com\",\"address\":\"ananthapur\"}\n",
        "d1[\"emailid\"]=\"python@gmail.com\"\n",
        "print(d1)"
      ],
      "execution_count": 12,
      "outputs": [
        {
          "output_type": "stream",
          "text": [
            "{'name': 'jntua', 'emailid': 'python@gmail.com', 'address': 'ananthapur'}\n"
          ],
          "name": "stdout"
        }
      ]
    },
    {
      "cell_type": "code",
      "metadata": {
        "id": "mDGTOIzXFaFK",
        "colab_type": "code",
        "colab": {
          "base_uri": "https://localhost:8080/",
          "height": 34
        },
        "outputId": "0194c45e-91e8-4282-d037-e86b018733a5"
      },
      "source": [
        "# adding a new key\n",
        "d1 = {\"name\":\"jntua\",\"emailid\":\"jntua@gmail.com\",\"address\":\"ananthapur\"}\n",
        "d1[\"courses\"]=\"python\"\n",
        "print(d1)"
      ],
      "execution_count": 15,
      "outputs": [
        {
          "output_type": "stream",
          "text": [
            "{'name': 'jntua', 'emailid': 'python@gmail.com', 'address': 'ananthapur', 'courses': 'python'}\n"
          ],
          "name": "stdout"
        }
      ]
    },
    {
      "cell_type": "code",
      "metadata": {
        "id": "WBrMCuo1GPgL",
        "colab_type": "code",
        "colab": {
          "base_uri": "https://localhost:8080/",
          "height": 34
        },
        "outputId": "35a7f1ba-35d2-4763-c2ef-c41cf417f01a"
      },
      "source": [
        "d1 = {\"name\":\"jntua\",\"emailid\":\"jntua@gmail.com\",\"address\":\"ananthapur\"}\n",
        "del d1[\"emailid\"]\n",
        "print(d1)"
      ],
      "execution_count": 16,
      "outputs": [
        {
          "output_type": "stream",
          "text": [
            "{'name': 'jntua', 'address': 'ananthapur'}\n"
          ],
          "name": "stdout"
        }
      ]
    },
    {
      "cell_type": "code",
      "metadata": {
        "id": "LolivRHqGoGC",
        "colab_type": "code",
        "colab": {}
      },
      "source": [
        ""
      ],
      "execution_count": 0,
      "outputs": []
    },
    {
      "cell_type": "markdown",
      "metadata": {
        "id": "Ux3edfKiHAGS",
        "colab_type": "text"
      },
      "source": [
        "# string\n"
      ]
    },
    {
      "cell_type": "code",
      "metadata": {
        "id": "L4rwEJ3IHC7s",
        "colab_type": "code",
        "colab": {
          "base_uri": "https://localhost:8080/",
          "height": 34
        },
        "outputId": "8edaaf2a-5750-4cc7-9a31-84b61f1bea3b"
      },
      "source": [
        "s1=\"python\"\n",
        "print(s1)"
      ],
      "execution_count": 17,
      "outputs": [
        {
          "output_type": "stream",
          "text": [
            "python\n"
          ],
          "name": "stdout"
        }
      ]
    },
    {
      "cell_type": "code",
      "metadata": {
        "id": "bYLZdEUTHRNt",
        "colab_type": "code",
        "colab": {
          "base_uri": "https://localhost:8080/",
          "height": 34
        },
        "outputId": "44367c12-8799-4a28-e2e2-95dc4e633ce4"
      },
      "source": [
        "s1=\"python\"\n",
        "print(s1,type(s1))"
      ],
      "execution_count": 18,
      "outputs": [
        {
          "output_type": "stream",
          "text": [
            "python <class 'str'>\n"
          ],
          "name": "stdout"
        }
      ]
    },
    {
      "cell_type": "code",
      "metadata": {
        "id": "AJg7iyZIHXrc",
        "colab_type": "code",
        "colab": {
          "base_uri": "https://localhost:8080/",
          "height": 34
        },
        "outputId": "68fe8c33-c46f-438d-9f1c-02088922f405"
      },
      "source": [
        "s1=\"python\"\n",
        "print(s1[-1])"
      ],
      "execution_count": 19,
      "outputs": [
        {
          "output_type": "stream",
          "text": [
            "n\n"
          ],
          "name": "stdout"
        }
      ]
    },
    {
      "cell_type": "code",
      "metadata": {
        "id": "ofhyXZWwH2eb",
        "colab_type": "code",
        "colab": {
          "base_uri": "https://localhost:8080/",
          "height": 34
        },
        "outputId": "9cf0fd01-5ed5-4be1-9403-2032bf6cb71e"
      },
      "source": [
        "s1=\"python\"\n",
        "print(s1[3:])"
      ],
      "execution_count": 21,
      "outputs": [
        {
          "output_type": "stream",
          "text": [
            "hon\n"
          ],
          "name": "stdout"
        }
      ]
    },
    {
      "cell_type": "code",
      "metadata": {
        "id": "8r4sUnQFH6br",
        "colab_type": "code",
        "colab": {
          "base_uri": "https://localhost:8080/",
          "height": 34
        },
        "outputId": "8cc5b2d4-fd08-4895-9344-6251c1d669d1"
      },
      "source": [
        "s1=\"python\"\n",
        "print(s1[1:5])"
      ],
      "execution_count": 25,
      "outputs": [
        {
          "output_type": "stream",
          "text": [
            "ytho\n"
          ],
          "name": "stdout"
        }
      ]
    },
    {
      "cell_type": "code",
      "metadata": {
        "id": "ksnv6Me0ITC7",
        "colab_type": "code",
        "colab": {
          "base_uri": "https://localhost:8080/",
          "height": 34
        },
        "outputId": "99954c73-eee5-4e79-c1d1-55baa38c2d4f"
      },
      "source": [
        "s1=\"python\"\n",
        "print(s1[::-1])"
      ],
      "execution_count": 44,
      "outputs": [
        {
          "output_type": "stream",
          "text": [
            "nohtyp\n"
          ],
          "name": "stdout"
        }
      ]
    },
    {
      "cell_type": "code",
      "metadata": {
        "id": "lVags64GI0b7",
        "colab_type": "code",
        "colab": {
          "base_uri": "https://localhost:8080/",
          "height": 34
        },
        "outputId": "7e7423c0-c3ce-456a-eb82-555c02a0d301"
      },
      "source": [
        "s1=\"python\"\n",
        "print(s1[-1::-1])\n",
        "         "
      ],
      "execution_count": 46,
      "outputs": [
        {
          "output_type": "stream",
          "text": [
            "nohtyp\n"
          ],
          "name": "stdout"
        }
      ]
    },
    {
      "cell_type": "code",
      "metadata": {
        "id": "s-ZxBQ2mKLYi",
        "colab_type": "code",
        "colab": {
          "base_uri": "https://localhost:8080/",
          "height": 34
        },
        "outputId": "d71237e6-f3e8-40db-95aa-16b16f926282"
      },
      "source": [
        "s1=\"python\"\n",
        "print(s1[len(s1)//2])"
      ],
      "execution_count": 59,
      "outputs": [
        {
          "output_type": "stream",
          "text": [
            "h\n"
          ],
          "name": "stdout"
        }
      ]
    },
    {
      "cell_type": "code",
      "metadata": {
        "id": "MYRrx6wDKrX7",
        "colab_type": "code",
        "colab": {
          "base_uri": "https://localhost:8080/",
          "height": 34
        },
        "outputId": "16b50a44-70bb-40f9-db0f-176226b1a2ae"
      },
      "source": [
        "s1=\"python\"\n",
        "print(s1[-1:-3:-1])"
      ],
      "execution_count": 79,
      "outputs": [
        {
          "output_type": "stream",
          "text": [
            "no\n"
          ],
          "name": "stdout"
        }
      ]
    },
    {
      "cell_type": "code",
      "metadata": {
        "id": "3WSDcvDKM_OR",
        "colab_type": "code",
        "colab": {
          "base_uri": "https://localhost:8080/",
          "height": 34
        },
        "outputId": "1a4de8cd-0b5c-4cac-886e-82e9df12f1ef"
      },
      "source": [
        "# reversing of string using function\n",
        "def reversestring(str):\n",
        "  s1=str\n",
        "  print(s1[::-1])\n",
        "reversestring(\"pythonrjhfj\")"
      ],
      "execution_count": 86,
      "outputs": [
        {
          "output_type": "stream",
          "text": [
            "jfhjrnohtyp\n"
          ],
          "name": "stdout"
        }
      ]
    },
    {
      "cell_type": "code",
      "metadata": {
        "id": "CluzdtoSPL2R",
        "colab_type": "code",
        "colab": {
          "base_uri": "https://localhost:8080/",
          "height": 51
        },
        "outputId": "3f64f07a-6b60-4e83-bba5-a71733c7d1bf"
      },
      "source": [
        "# palindrome or not\n",
        "s = input(\"enter a string:\")\n",
        "if s==s[::-1]:\n",
        "   print(s,\"is a palindrome\")\n",
        "else:\n",
        "   print(s,\"is not palindrome\")   \n"
      ],
      "execution_count": 92,
      "outputs": [
        {
          "output_type": "stream",
          "text": [
            "enter a string:madam\n",
            "madam is a palindrome\n"
          ],
          "name": "stdout"
        }
      ]
    },
    {
      "cell_type": "code",
      "metadata": {
        "id": "LTw8fySDSaL1",
        "colab_type": "code",
        "colab": {
          "base_uri": "https://localhost:8080/",
          "height": 34
        },
        "outputId": "c0ab6521-a590-4f17-8b82-5e0b33da3e75"
      },
      "source": [
        "# palindrome or not\n",
        "def palindrome(str):\n",
        "  if str == str[::-1]:\n",
        "    print(str,\"is a palindrome\")\n",
        "  else:\n",
        "    print(str,\"is not a palindrome\")\n",
        "palindrome(\"mom\")      "
      ],
      "execution_count": 97,
      "outputs": [
        {
          "output_type": "stream",
          "text": [
            "mom is a palindrome\n"
          ],
          "name": "stdout"
        }
      ]
    },
    {
      "cell_type": "code",
      "metadata": {
        "id": "jX9Skkp4TvSk",
        "colab_type": "code",
        "colab": {}
      },
      "source": [
        ""
      ],
      "execution_count": 0,
      "outputs": []
    }
  ]
}