{
  "nbformat": 4,
  "nbformat_minor": 0,
  "metadata": {
    "colab": {
      "name": "DAY10(31-01-2020)",
      "provenance": [],
      "authorship_tag": "ABX9TyOJgtp3gbgF3MEgy0ghK7xh",
      "include_colab_link": true
    },
    "kernelspec": {
      "name": "python3",
      "display_name": "Python 3"
    }
  },
  "cells": [
    {
      "cell_type": "markdown",
      "metadata": {
        "id": "view-in-github",
        "colab_type": "text"
      },
      "source": [
        "<a href=\"https://colab.research.google.com/github/adgunasekar/PYTHON/blob/master/DAY10(31_01_2020).ipynb\" target=\"_parent\"><img src=\"https://colab.research.google.com/assets/colab-badge.svg\" alt=\"Open In Colab\"/></a>"
      ]
    },
    {
      "cell_type": "code",
      "metadata": {
        "id": "oI77jKxvuGmW",
        "colab_type": "code",
        "colab": {}
      },
      "source": [
        ""
      ],
      "execution_count": 0,
      "outputs": []
    },
    {
      "cell_type": "markdown",
      "metadata": {
        "id": "kz7Vu9xzxJaC",
        "colab_type": "text"
      },
      "source": [
        "# LOOPS\n",
        "- WHILE LOOP\n",
        "- FOR LOOP\n"
      ]
    },
    {
      "cell_type": "code",
      "metadata": {
        "id": "ah_4k7CMxSwi",
        "colab_type": "code",
        "colab": {
          "base_uri": "https://localhost:8080/",
          "height": 51
        },
        "outputId": "a39966bd-8b09-4da3-968d-b117d4e8832a"
      },
      "source": [
        "# PRINT NUMBERS FROM 1 TO 10\n",
        "n = int(input(\"enter a number\"))\n",
        "i = 1\n",
        "while i <=n:\n",
        "    print(i,end = \" \")\n",
        "    i=i+1"
      ],
      "execution_count": 4,
      "outputs": [
        {
          "output_type": "stream",
          "text": [
            "enter a number11\n",
            "1 2 3 4 5 6 7 8 9 10 11 "
          ],
          "name": "stdout"
        }
      ]
    },
    {
      "cell_type": "code",
      "metadata": {
        "id": "8_mKfCYeymJU",
        "colab_type": "code",
        "colab": {
          "base_uri": "https://localhost:8080/",
          "height": 51
        },
        "outputId": "f5b82125-ef0a-4dd4-8a61-20addabbe7a9"
      },
      "source": [
        "# print sum of even numbers\n",
        "n = int(input(\"enter a number\"))\n",
        "i = 2\n",
        "sum = 0\n",
        "while i<=n:\n",
        "   sum = sum+i\n",
        "   i = i+2\n",
        "print(sum)"
      ],
      "execution_count": 11,
      "outputs": [
        {
          "output_type": "stream",
          "text": [
            "enter a number12\n",
            "42\n"
          ],
          "name": "stdout"
        }
      ]
    },
    {
      "cell_type": "code",
      "metadata": {
        "id": "pDiaBog5z2tC",
        "colab_type": "code",
        "colab": {
          "base_uri": "https://localhost:8080/",
          "height": 51
        },
        "outputId": "742510fa-aa18-41d6-b015-80c9bf392403"
      },
      "source": [
        "# check whether given number is a palindrome\n",
        "n = int(input(\"enter a number\"))\n",
        "i = n\n",
        "r = 0\n",
        "while n>0:\n",
        "  x = n%10\n",
        "  r = r*10+x\n",
        "  n = (n//10)\n",
        "print(r)    \n"
      ],
      "execution_count": 21,
      "outputs": [
        {
          "output_type": "stream",
          "text": [
            "enter a number99\n",
            "99\n"
          ],
          "name": "stdout"
        }
      ]
    },
    {
      "cell_type": "code",
      "metadata": {
        "id": "pE_pKEnd4B7H",
        "colab_type": "code",
        "colab": {}
      },
      "source": [
        "656\n"
      ],
      "execution_count": 0,
      "outputs": []
    },
    {
      "cell_type": "markdown",
      "metadata": {
        "id": "kgN2vZBr8zXm",
        "colab_type": "text"
      },
      "source": [
        "# functional programming\n",
        "- simple\n",
        "- easy to understand\n",
        "- better reusability\n",
        "- lengthy program will be divided into sub programs\n"
      ]
    },
    {
      "cell_type": "code",
      "metadata": {
        "id": "mjkhRyNA9dAx",
        "colab_type": "code",
        "colab": {}
      },
      "source": [
        "def name of the function(<parameter>):\n",
        "   statements\n",
        "   return"
      ],
      "execution_count": 0,
      "outputs": []
    },
    {
      "cell_type": "code",
      "metadata": {
        "id": "7YXppg31-ETb",
        "colab_type": "code",
        "colab": {
          "base_uri": "https://localhost:8080/",
          "height": 34
        },
        "outputId": "371fbefe-3c6f-4231-fab3-57932713780e"
      },
      "source": [
        "# print sum of even numbers\n",
        "#input:1234\n",
        "# output:(2+4)=6\n",
        "def sumofevendigits(n):\n",
        "  s = 0\n",
        "  while n!=0:\n",
        "    r = n%10\n",
        "    if r%2 == 0:\n",
        "      s=s+r\n",
        "    n=n//10\n",
        "  return s\n",
        "sumofevendigits(1234)      "
      ],
      "execution_count": 28,
      "outputs": [
        {
          "output_type": "execute_result",
          "data": {
            "text/plain": [
              "6"
            ]
          },
          "metadata": {
            "tags": []
          },
          "execution_count": 28
        }
      ]
    },
    {
      "cell_type": "code",
      "metadata": {
        "id": "oCmZdwAvB8Sq",
        "colab_type": "code",
        "colab": {
          "base_uri": "https://localhost:8080/",
          "height": 34
        },
        "outputId": "1acd4128-fbff-4931-cd3b-4267255cfde1"
      },
      "source": [
        "# print largest number in a given number\n",
        "def large(n):\n",
        "  prev=0\n",
        "  next=0\n",
        "  while(n!=0):\n",
        "   prev=next\n",
        "   next=n%10\n",
        "   if(prev>next):\n",
        "    next=prev\n",
        "   n=n//10\n",
        "  return next\n",
        "large(12345)    \n"
      ],
      "execution_count": 33,
      "outputs": [
        {
          "output_type": "execute_result",
          "data": {
            "text/plain": [
              "5"
            ]
          },
          "metadata": {
            "tags": []
          },
          "execution_count": 33
        }
      ]
    },
    {
      "cell_type": "code",
      "metadata": {
        "id": "X6X2OQ71GQmG",
        "colab_type": "code",
        "colab": {}
      },
      "source": [
        ""
      ],
      "execution_count": 0,
      "outputs": []
    },
    {
      "cell_type": "markdown",
      "metadata": {
        "id": "pELP4ibvINFz",
        "colab_type": "text"
      },
      "source": [
        "# for loop\n",
        "# syntax:\n",
        "# for in range(start,stop,step):\n",
        "# statements"
      ]
    },
    {
      "cell_type": "code",
      "metadata": {
        "id": "A9Q8jPo_I75O",
        "colab_type": "code",
        "colab": {}
      },
      "source": [
        "# syntax\n",
        "# for in range(start,stop,step):\n",
        "statements"
      ],
      "execution_count": 0,
      "outputs": []
    },
    {
      "cell_type": "code",
      "metadata": {
        "id": "Y8S5SamiJHT1",
        "colab_type": "code",
        "colab": {
          "base_uri": "https://localhost:8080/",
          "height": 34
        },
        "outputId": "0d3cb236-fba9-4515-c3fb-90923f3b8313"
      },
      "source": [
        "# using function print the numbers between limits\n",
        "# input:11 25\n",
        "# output:11 12 13 14......24 25\n",
        "def printseries(fn,ln):\n",
        "   for i in range(fn,ln+1):\n",
        "     print(i,end=\" \")\n",
        "   return\n",
        "printseries(11,25)     "
      ],
      "execution_count": 35,
      "outputs": [
        {
          "output_type": "stream",
          "text": [
            "11 12 13 14 15 16 17 18 19 20 21 22 23 24 25 "
          ],
          "name": "stdout"
        }
      ]
    },
    {
      "cell_type": "code",
      "metadata": {
        "id": "QMHgYlAgKv3D",
        "colab_type": "code",
        "colab": {
          "base_uri": "https://localhost:8080/",
          "height": 34
        },
        "outputId": "22e8ce05-e01e-412d-93b3-72cd8ec6e522"
      },
      "source": [
        "# input:500,520\n",
        "#output:500 504 508....520:\n",
        "def printseries(fn,ln):\n",
        "    for i in range(500,521,4):\n",
        "      print(i,end=\" \")\n",
        "    return\n",
        "printseries(500,521)    "
      ],
      "execution_count": 44,
      "outputs": [
        {
          "output_type": "stream",
          "text": [
            "500 504 508 512 516 520 "
          ],
          "name": "stdout"
        }
      ]
    },
    {
      "cell_type": "code",
      "metadata": {
        "id": "zLtfa6eJLm_u",
        "colab_type": "code",
        "colab": {}
      },
      "source": [
        ""
      ],
      "execution_count": 0,
      "outputs": []
    },
    {
      "cell_type": "markdown",
      "metadata": {
        "id": "PgFVZeUfMsZ3",
        "colab_type": "text"
      },
      "source": [
        "# collection types\n",
        "- list\n",
        "- tuple\n",
        "- dictionary"
      ]
    },
    {
      "cell_type": "code",
      "metadata": {
        "id": "CwlUFBoMM0uy",
        "colab_type": "code",
        "colab": {}
      },
      "source": [
        ""
      ],
      "execution_count": 0,
      "outputs": []
    },
    {
      "cell_type": "markdown",
      "metadata": {
        "id": "Ove6EGIuM1um",
        "colab_type": "text"
      },
      "source": [
        "# list\n",
        "- one of the data structure in python\n",
        "- data structure mea ns to store, sort and search options\n",
        "- it is one  common data structure in python,the items of list seperated by comma and enclosed by square brackets\n",
        "- list was immutable(ie values can be changed)\n",
        "- ex:\n",
        "- list1 = [1,2,3,4,5]\n",
        "- list = [\"JNTUA\",\"DASD\",\"asds\"]"
      ]
    },
    {
      "cell_type": "code",
      "metadata": {
        "id": "4Tc3ccMJOwn3",
        "colab_type": "code",
        "colab": {
          "base_uri": "https://localhost:8080/",
          "height": 68
        },
        "outputId": "a6c93106-b972-4655-889b-6d62d22b3f04"
      },
      "source": [
        "li = [1,8,2,5,4]\n",
        "print(li[-4:])\n",
        "print(li[-2:])\n",
        "print(li[::2])     "
      ],
      "execution_count": 57,
      "outputs": [
        {
          "output_type": "stream",
          "text": [
            "[8, 2, 5, 4]\n",
            "[5, 4]\n",
            "[1, 2, 4]\n"
          ],
          "name": "stdout"
        }
      ]
    },
    {
      "cell_type": "code",
      "metadata": {
        "id": "LYrhm1LqO3PP",
        "colab_type": "code",
        "colab": {
          "base_uri": "https://localhost:8080/",
          "height": 248
        },
        "outputId": "186767da-6f66-49b4-ed5c-99f1e38d6ed8"
      },
      "source": [
        "# update list\n",
        "li = [\"JNTUA\",7,\"ANTPR\",9,7]\n",
        "print(li)\n",
        "li[3]=\"567\"\n",
        "print(li)\n"
      ],
      "execution_count": 62,
      "outputs": [
        {
          "output_type": "stream",
          "text": [
            "['JNTUA', 7, 'ANTPR', 9, 7]\n",
            "['JNTUA', 7, 'ANTPR', '567', 7]\n"
          ],
          "name": "stdout"
        },
        {
          "output_type": "error",
          "ename": "IndexError",
          "evalue": "ignored",
          "traceback": [
            "\u001b[0;31m---------------------------------------------------------------------------\u001b[0m",
            "\u001b[0;31mIndexError\u001b[0m                                Traceback (most recent call last)",
            "\u001b[0;32m<ipython-input-62-8876d9a56972>\u001b[0m in \u001b[0;36m<module>\u001b[0;34m()\u001b[0m\n\u001b[1;32m      4\u001b[0m \u001b[0mprint\u001b[0m\u001b[0;34m(\u001b[0m\u001b[0mli\u001b[0m\u001b[0;34m)\u001b[0m\u001b[0;34m\u001b[0m\u001b[0;34m\u001b[0m\u001b[0m\n\u001b[1;32m      5\u001b[0m \u001b[0;31m# delete list item\u001b[0m\u001b[0;34m\u001b[0m\u001b[0;34m\u001b[0m\u001b[0;34m\u001b[0m\u001b[0m\n\u001b[0;32m----> 6\u001b[0;31m \u001b[0;32mdel\u001b[0m \u001b[0mli\u001b[0m\u001b[0;34m[\u001b[0m\u001b[0;36m5\u001b[0m\u001b[0;34m]\u001b[0m\u001b[0;34m\u001b[0m\u001b[0;34m\u001b[0m\u001b[0m\n\u001b[0m\u001b[1;32m      7\u001b[0m \u001b[0mprint\u001b[0m\u001b[0;34m(\u001b[0m\u001b[0mli\u001b[0m\u001b[0;34m)\u001b[0m\u001b[0;34m\u001b[0m\u001b[0;34m\u001b[0m\u001b[0m\n",
            "\u001b[0;31mIndexError\u001b[0m: list assignment index out of range"
          ]
        }
      ]
    },
    {
      "cell_type": "code",
      "metadata": {
        "id": "jEpZ6r2echxa",
        "colab_type": "code",
        "colab": {
          "base_uri": "https://localhost:8080/",
          "height": 34
        },
        "outputId": "16cf7731-a33d-4dcf-96b0-ab972e6f089d"
      },
      "source": [
        "del li[3]\n",
        "print(li)"
      ],
      "execution_count": 64,
      "outputs": [
        {
          "output_type": "stream",
          "text": [
            "['JNTUA', 7, 'ANTPR']\n"
          ],
          "name": "stdout"
        }
      ]
    },
    {
      "cell_type": "code",
      "metadata": {
        "id": "HsM4PPH6bxWz",
        "colab_type": "code",
        "colab": {
          "base_uri": "https://localhost:8080/",
          "height": 85
        },
        "outputId": "1a07f9e4-aedd-4bce-ff8e-a1026e7a3e32"
      },
      "source": [
        "# basic list operations\n",
        "li=[1,2,3,4,5]\n",
        "print(len(li))\n",
        "print(li*2)\n",
        "print(4 in li)\n",
        "print(7 in li)"
      ],
      "execution_count": 69,
      "outputs": [
        {
          "output_type": "stream",
          "text": [
            "5\n",
            "[1, 2, 3, 4, 5, 1, 2, 3, 4, 5]\n",
            "True\n",
            "False\n"
          ],
          "name": "stdout"
        }
      ]
    },
    {
      "cell_type": "code",
      "metadata": {
        "id": "bPKuPDMAdLoS",
        "colab_type": "code",
        "colab": {}
      },
      "source": [
        ""
      ],
      "execution_count": 0,
      "outputs": []
    },
    {
      "cell_type": "markdown",
      "metadata": {
        "id": "Ah0cq720dyHY",
        "colab_type": "text"
      },
      "source": [
        "# list functions\n",
        "- max\n",
        "- min\n",
        "- sum\n",
        "- append\n",
        "- insert\n",
        "- count\n",
        "- index\n",
        "- sort\n",
        "- pop\n",
        "- "
      ]
    },
    {
      "cell_type": "code",
      "metadata": {
        "id": "AIUjZ24IeLOx",
        "colab_type": "code",
        "colab": {
          "base_uri": "https://localhost:8080/",
          "height": 231
        },
        "outputId": "b8f0d81b-a96d-406a-ca04-49474b3625ae"
      },
      "source": [
        "li = [1,2,3,4,5]\n",
        "print(max(li))\n",
        "print(min(li))\n",
        "print(sum(li))"
      ],
      "execution_count": 74,
      "outputs": [
        {
          "output_type": "stream",
          "text": [
            "5\n",
            "1\n"
          ],
          "name": "stdout"
        },
        {
          "output_type": "error",
          "ename": "TypeError",
          "evalue": "ignored",
          "traceback": [
            "\u001b[0;31m---------------------------------------------------------------------------\u001b[0m",
            "\u001b[0;31mTypeError\u001b[0m                                 Traceback (most recent call last)",
            "\u001b[0;32m<ipython-input-74-5585bf0fba92>\u001b[0m in \u001b[0;36m<module>\u001b[0;34m()\u001b[0m\n\u001b[1;32m      2\u001b[0m \u001b[0mprint\u001b[0m\u001b[0;34m(\u001b[0m\u001b[0mmax\u001b[0m\u001b[0;34m(\u001b[0m\u001b[0mli\u001b[0m\u001b[0;34m)\u001b[0m\u001b[0;34m)\u001b[0m\u001b[0;34m\u001b[0m\u001b[0;34m\u001b[0m\u001b[0m\n\u001b[1;32m      3\u001b[0m \u001b[0mprint\u001b[0m\u001b[0;34m(\u001b[0m\u001b[0mmin\u001b[0m\u001b[0;34m(\u001b[0m\u001b[0mli\u001b[0m\u001b[0;34m)\u001b[0m\u001b[0;34m)\u001b[0m\u001b[0;34m\u001b[0m\u001b[0;34m\u001b[0m\u001b[0m\n\u001b[0;32m----> 4\u001b[0;31m \u001b[0mprint\u001b[0m\u001b[0;34m(\u001b[0m\u001b[0msum\u001b[0m\u001b[0;34m(\u001b[0m\u001b[0mli\u001b[0m\u001b[0;34m)\u001b[0m\u001b[0;34m)\u001b[0m\u001b[0;34m\u001b[0m\u001b[0;34m\u001b[0m\u001b[0m\n\u001b[0m",
            "\u001b[0;31mTypeError\u001b[0m: 'int' object is not callable"
          ]
        }
      ]
    },
    {
      "cell_type": "code",
      "metadata": {
        "id": "a5uZ_axxeSk-",
        "colab_type": "code",
        "colab": {}
      },
      "source": [
        "\n"
      ],
      "execution_count": 0,
      "outputs": []
    }
  ]
}