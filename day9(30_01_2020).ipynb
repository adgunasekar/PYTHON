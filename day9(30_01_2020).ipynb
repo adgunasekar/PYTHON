{
  "nbformat": 4,
  "nbformat_minor": 0,
  "metadata": {
    "colab": {
      "name": "day9(30-01-2020)",
      "provenance": [],
      "authorship_tag": "ABX9TyO5L71AihEoaJahfUL7jpWu",
      "include_colab_link": true
    },
    "kernelspec": {
      "name": "python3",
      "display_name": "Python 3"
    }
  },
  "cells": [
    {
      "cell_type": "markdown",
      "metadata": {
        "id": "view-in-github",
        "colab_type": "text"
      },
      "source": [
        "<a href=\"https://colab.research.google.com/github/adgunasekar/PYTHON/blob/master/day9(30_01_2020).ipynb\" target=\"_parent\"><img src=\"https://colab.research.google.com/assets/colab-badge.svg\" alt=\"Open In Colab\"/></a>"
      ]
    },
    {
      "cell_type": "code",
      "metadata": {
        "id": "euX4tZaq8UIz",
        "colab_type": "code",
        "colab": {}
      },
      "source": [
        ""
      ],
      "execution_count": 0,
      "outputs": []
    },
    {
      "cell_type": "markdown",
      "metadata": {
        "id": "2UggtSxN9W5b",
        "colab_type": "text"
      },
      "source": [
        "# Markdown\n",
        "## Markdown\n",
        "### Markdown\n",
        "#### Markdown \n"
      ]
    },
    {
      "cell_type": "markdown",
      "metadata": {
        "id": "rATEdqN3-P-Z",
        "colab_type": "text"
      },
      "source": [
        "**guna**\n",
        "*guna*\n",
        "***guna***\n",
        "***Adding links to markdown***\n",
        "[site](https://en.wikipedia.org/wiki/Jawaharlal_Nehru_Technological_University,_Anantapur)"
      ]
    },
    {
      "cell_type": "markdown",
      "metadata": {
        "id": "nEj3T9SEBh3C",
        "colab_type": "text"
      },
      "source": [
        "### inserting image \n",
        "![text](https://upload.wikimedia.org/wikipedia/en/e/e3/Jawaharlal_Nehru_Technological_University%2C_Anantapur_logo.png)"
      ]
    },
    {
      "cell_type": "markdown",
      "metadata": {
        "id": "SMJoUPXmCDNS",
        "colab_type": "text"
      },
      "source": [
        "### Inserting image\n",
        "![text](https://www.google.com/search?q=jntua&sxsrf=ACYBGNRv4v712q06MxL0RkPP6HkZWKGd7g:1580380560845&source=lnms&tbm=isch&sa=X&ved=2ahUKEwiyq8GvkKvnAhXEb30KHR-4AvYQ_AUoBHoECA0QBg&biw=1600&bih=789#imgrc=s3XnUcbS_Rlu7M:)"
      ]
    },
    {
      "cell_type": "markdown",
      "metadata": {
        "id": "hAaqwbvRCmCS",
        "colab_type": "text"
      },
      "source": [
        ""
      ]
    },
    {
      "cell_type": "code",
      "metadata": {
        "id": "rgrDiD9wCqp5",
        "colab_type": "code",
        "colab": {
          "base_uri": "https://localhost:8080/",
          "height": 34
        },
        "outputId": "a818173d-e748-4d4d-af4a-393d62976f52"
      },
      "source": [
        "print(\"hello world\")"
      ],
      "execution_count": 1,
      "outputs": [
        {
          "output_type": "stream",
          "text": [
            "hello world\n"
          ],
          "name": "stdout"
        }
      ]
    },
    {
      "cell_type": "code",
      "metadata": {
        "id": "W_AzavMVC5Pj",
        "colab_type": "code",
        "colab": {
          "base_uri": "https://localhost:8080/",
          "height": 129
        },
        "outputId": "529e5262-8d12-4e18-ff55-a5bab1588207"
      },
      "source": [
        "# variable creation\n",
        "print(\"hello , jntua\")\n",
        "print(\"hello, jntua\",\"|||\",\"chemical,\"|||\",\"cse\")\n"
      ],
      "execution_count": 2,
      "outputs": [
        {
          "output_type": "error",
          "ename": "SyntaxError",
          "evalue": "ignored",
          "traceback": [
            "\u001b[0;36m  File \u001b[0;32m\"<ipython-input-2-45a3a8d6ff25>\"\u001b[0;36m, line \u001b[0;32m2\u001b[0m\n\u001b[0;31m    print(\"hello, jntua\",\"|||\",\"chemical,\"|||\",\"cse\")\u001b[0m\n\u001b[0m                                           ^\u001b[0m\n\u001b[0;31mSyntaxError\u001b[0m\u001b[0;31m:\u001b[0m invalid syntax\n"
          ]
        }
      ]
    },
    {
      "cell_type": "code",
      "metadata": {
        "id": "ycM8phUEIrpH",
        "colab_type": "code",
        "colab": {
          "base_uri": "https://localhost:8080/",
          "height": 34
        },
        "outputId": "eefa3f1d-a809-4c43-cc88-170229d78fa5"
      },
      "source": [
        "print(\"hello , jntua\",\"chemical\",\"cse\")"
      ],
      "execution_count": 3,
      "outputs": [
        {
          "output_type": "stream",
          "text": [
            "hello , jntua chemical cse\n"
          ],
          "name": "stdout"
        }
      ]
    },
    {
      "cell_type": "code",
      "metadata": {
        "id": "y2MD5K9jI8Fv",
        "colab_type": "code",
        "colab": {
          "base_uri": "https://localhost:8080/",
          "height": 68
        },
        "outputId": "ffadfe46-634e-4818-e84e-13296845542e"
      },
      "source": [
        "n1 = 100 # single variable assignment\n",
        "print(n1)\n",
        "a = b = c = 10 # multi variable assignment of same value\n",
        "print(a,b,c)\n",
        "a1,b1,c1 = 100,200,300 # multiple variable assignment with different values\n",
        "print(a1,b1,c1)"
      ],
      "execution_count": 4,
      "outputs": [
        {
          "output_type": "stream",
          "text": [
            "100\n",
            "10 10 10\n",
            "100 200 300\n"
          ],
          "name": "stdout"
        }
      ]
    },
    {
      "cell_type": "code",
      "metadata": {
        "id": "XK9WpwyJKM2X",
        "colab_type": "code",
        "colab": {
          "base_uri": "https://localhost:8080/",
          "height": 197
        },
        "outputId": "ea9821e3-20ae-4027-f6ff-703b06d1c5a5"
      },
      "source": [
        "# Data types and conversions\n",
        "int\n",
        "float\n",
        "string"
      ],
      "execution_count": 5,
      "outputs": [
        {
          "output_type": "error",
          "ename": "NameError",
          "evalue": "ignored",
          "traceback": [
            "\u001b[0;31m---------------------------------------------------------------------------\u001b[0m",
            "\u001b[0;31mNameError\u001b[0m                                 Traceback (most recent call last)",
            "\u001b[0;32m<ipython-input-5-5164ba1eb3e6>\u001b[0m in \u001b[0;36m<module>\u001b[0;34m()\u001b[0m\n\u001b[1;32m      1\u001b[0m \u001b[0mint\u001b[0m\u001b[0;34m\u001b[0m\u001b[0;34m\u001b[0m\u001b[0m\n\u001b[1;32m      2\u001b[0m \u001b[0mfloat\u001b[0m\u001b[0;34m\u001b[0m\u001b[0;34m\u001b[0m\u001b[0m\n\u001b[0;32m----> 3\u001b[0;31m \u001b[0mstring\u001b[0m\u001b[0;34m\u001b[0m\u001b[0;34m\u001b[0m\u001b[0m\n\u001b[0m",
            "\u001b[0;31mNameError\u001b[0m: name 'string' is not defined"
          ]
        }
      ]
    },
    {
      "cell_type": "code",
      "metadata": {
        "id": "n2_zHbmMKvlv",
        "colab_type": "code",
        "colab": {}
      },
      "source": [
        "# data types and conversions"
      ],
      "execution_count": 0,
      "outputs": []
    },
    {
      "cell_type": "code",
      "metadata": {
        "id": "CHSwGtwiL8WM",
        "colab_type": "code",
        "colab": {}
      },
      "source": [
        ""
      ],
      "execution_count": 0,
      "outputs": []
    },
    {
      "cell_type": "markdown",
      "metadata": {
        "id": "NWSDHwYpME2F",
        "colab_type": "text"
      },
      "source": [
        "data types and conversions"
      ]
    },
    {
      "cell_type": "code",
      "metadata": {
        "id": "6F-ryI2_MIsT",
        "colab_type": "code",
        "colab": {
          "base_uri": "https://localhost:8080/",
          "height": 34
        },
        "outputId": "02fde511-e2ff-4deb-a99e-8d96607b9f3e"
      },
      "source": [
        "a = 100\n",
        "s1 = 10.2\n",
        "s2 = \"python\"\n",
        "print(type(a),type(s1),type(s2))"
      ],
      "execution_count": 9,
      "outputs": [
        {
          "output_type": "stream",
          "text": [
            "<class 'int'> <class 'float'> <class 'str'>\n"
          ],
          "name": "stdout"
        }
      ]
    },
    {
      "cell_type": "code",
      "metadata": {
        "id": "DmSxLxPHMbX-",
        "colab_type": "code",
        "colab": {
          "base_uri": "https://localhost:8080/",
          "height": 68
        },
        "outputId": "a6258395-3034-4c97-e1a7-fec3b6733135"
      },
      "source": [
        "i = 100\n",
        "print(type(i))\n",
        "s1=str(i)\n",
        "print(type(s1))\n",
        "f1=float(i)\n",
        "print(type(f1))"
      ],
      "execution_count": 10,
      "outputs": [
        {
          "output_type": "stream",
          "text": [
            "<class 'int'>\n",
            "<class 'str'>\n",
            "<class 'float'>\n"
          ],
          "name": "stdout"
        }
      ]
    },
    {
      "cell_type": "code",
      "metadata": {
        "id": "D3Ipf1DeM8pH",
        "colab_type": "code",
        "colab": {
          "base_uri": "https://localhost:8080/",
          "height": 34
        },
        "outputId": "e58ede36-bf48-4ebf-8a6d-7e8cc93cc273"
      },
      "source": [
        "# length\n",
        "a = 123456\n",
        "print(len(str(a)))"
      ],
      "execution_count": 11,
      "outputs": [
        {
          "output_type": "stream",
          "text": [
            "6\n"
          ],
          "name": "stdout"
        }
      ]
    },
    {
      "cell_type": "code",
      "metadata": {
        "id": "P07dTx4rNJje",
        "colab_type": "code",
        "colab": {}
      },
      "source": [
        ""
      ],
      "execution_count": 0,
      "outputs": []
    },
    {
      "cell_type": "markdown",
      "metadata": {
        "id": "dOORhBYdNMYt",
        "colab_type": "text"
      },
      "source": [
        "# Reading input from user---input function"
      ]
    },
    {
      "cell_type": "code",
      "metadata": {
        "id": "9nYMFeetNUWu",
        "colab_type": "code",
        "colab": {
          "base_uri": "https://localhost:8080/",
          "height": 68
        },
        "outputId": "68a05a0e-6c0f-4937-b63f-aca94836adf6"
      },
      "source": [
        "a = input(\"enter your name : \")\n",
        "print(a)\n",
        "print(type(a)) "
      ],
      "execution_count": 13,
      "outputs": [
        {
          "output_type": "stream",
          "text": [
            "enter your name : gunasekar\n",
            "gunasekar\n",
            "<class 'str'>\n"
          ],
          "name": "stdout"
        }
      ]
    },
    {
      "cell_type": "code",
      "metadata": {
        "id": "ddWSKOM7NoKO",
        "colab_type": "code",
        "colab": {
          "base_uri": "https://localhost:8080/",
          "height": 68
        },
        "outputId": "a5eb8d18-3676-480e-fb71-b5f1685c1f65"
      },
      "source": [
        "b = int(input(\"enter your age : \"))\n",
        "print(b)\n",
        "print(type(b))"
      ],
      "execution_count": 14,
      "outputs": [
        {
          "output_type": "stream",
          "text": [
            "enter your age : 21\n",
            "21\n",
            "<class 'int'>\n"
          ],
          "name": "stdout"
        }
      ]
    },
    {
      "cell_type": "markdown",
      "metadata": {
        "id": "UmBK5PKuO0Mk",
        "colab_type": "text"
      },
      "source": [
        "# operators\n",
        "- operator is a symbol used to perform a specific kind of operations\n"
      ]
    },
    {
      "cell_type": "markdown",
      "metadata": {
        "id": "lP8Wc_MNPLeB",
        "colab_type": "text"
      },
      "source": [
        "# arithmetic operator\n",
        "- +\n",
        "- -\n",
        "- *\n",
        "- /\n",
        "- %\n",
        "- //"
      ]
    },
    {
      "cell_type": "code",
      "metadata": {
        "id": "MQauxd-lOsSP",
        "colab_type": "code",
        "colab": {
          "base_uri": "https://localhost:8080/",
          "height": 136
        },
        "outputId": "544f4f84-78dc-4aad-f635-a554ea67eca4"
      },
      "source": [
        "a = 1234\n",
        "print(a+10)\n",
        "print(a-10)\n",
        "print(a*10)\n",
        "print(a/10)\n",
        "print(a%10)\n",
        "print(a//10)\n",
        "print(a**10)"
      ],
      "execution_count": 15,
      "outputs": [
        {
          "output_type": "stream",
          "text": [
            "1244\n",
            "1224\n",
            "12340\n",
            "123.4\n",
            "4\n",
            "123\n",
            "8187505353567209228244052427776\n"
          ],
          "name": "stdout"
        }
      ]
    },
    {
      "cell_type": "code",
      "metadata": {
        "id": "r8IHEVfRQJ2k",
        "colab_type": "code",
        "colab": {}
      },
      "source": [
        ""
      ],
      "execution_count": 0,
      "outputs": []
    },
    {
      "cell_type": "markdown",
      "metadata": {
        "id": "EmVQrHKQRsJ-",
        "colab_type": "text"
      },
      "source": [
        "# Relational operators\n",
        "- =\n",
        "- ==\n",
        "- !=\n",
        "- <\n",
        "- >\n",
        "- <=\n",
        "- >="
      ]
    },
    {
      "cell_type": "markdown",
      "metadata": {
        "id": "92_6jB3VSVFF",
        "colab_type": "text"
      },
      "source": [
        "# relational operators\n",
        "- =\n",
        "- ==\n",
        "- !=\n",
        "- <\n",
        "- >\n",
        "- <=\n",
        "- =>"
      ]
    },
    {
      "cell_type": "code",
      "metadata": {
        "id": "DBDTmcLGSLu5",
        "colab_type": "code",
        "colab": {
          "base_uri": "https://localhost:8080/",
          "height": 34
        },
        "outputId": "f1301aaa-2ddf-40c2-bb60-0a9e250bcb35"
      },
      "source": [
        "x = 10\n",
        "a1 = x > 15\n",
        "print(a1)"
      ],
      "execution_count": 16,
      "outputs": [
        {
          "output_type": "stream",
          "text": [
            "False\n"
          ],
          "name": "stdout"
        }
      ]
    },
    {
      "cell_type": "code",
      "metadata": {
        "id": "kBtsHnl5SzST",
        "colab_type": "code",
        "colab": {}
      },
      "source": [
        ""
      ],
      "execution_count": 0,
      "outputs": []
    },
    {
      "cell_type": "markdown",
      "metadata": {
        "id": "neuVPRNSS0XU",
        "colab_type": "text"
      },
      "source": [
        "# logical operators\n",
        "- and\n",
        "- or\n",
        "- not"
      ]
    },
    {
      "cell_type": "code",
      "metadata": {
        "id": "rHAa0gB8S8ie",
        "colab_type": "code",
        "colab": {
          "base_uri": "https://localhost:8080/",
          "height": 68
        },
        "outputId": "dfe7a63a-160a-4b6f-dc11-025bbf11b85d"
      },
      "source": [
        "i = 100\n",
        "a1 =  (i>15) and (i<800)\n",
        "a2 = (i>15) or (i>800)\n",
        "i = not 100\n",
        "print(a1)\n",
        "print(a2)\n",
        "print(i)"
      ],
      "execution_count": 19,
      "outputs": [
        {
          "output_type": "stream",
          "text": [
            "True\n",
            "True\n",
            "False\n"
          ],
          "name": "stdout"
        }
      ]
    },
    {
      "cell_type": "code",
      "metadata": {
        "id": "XKHzBMLWTpMg",
        "colab_type": "code",
        "colab": {
          "base_uri": "https://localhost:8080/",
          "height": 129
        },
        "outputId": "0e319125-fc6d-4bb0-c8d7-c02ba8028ae3"
      },
      "source": [
        "# control flow statements\n",
        "- conditional statements\n",
        "- looping statements"
      ],
      "execution_count": 20,
      "outputs": [
        {
          "output_type": "error",
          "ename": "SyntaxError",
          "evalue": "ignored",
          "traceback": [
            "\u001b[0;36m  File \u001b[0;32m\"<ipython-input-20-ed2acdf929f4>\"\u001b[0;36m, line \u001b[0;32m1\u001b[0m\n\u001b[0;31m    - conditional statements\u001b[0m\n\u001b[0m                           ^\u001b[0m\n\u001b[0;31mSyntaxError\u001b[0m\u001b[0;31m:\u001b[0m invalid syntax\n"
          ]
        }
      ]
    },
    {
      "cell_type": "code",
      "metadata": {
        "id": "7305Q78nUnRl",
        "colab_type": "code",
        "colab": {}
      },
      "source": [
        ""
      ],
      "execution_count": 0,
      "outputs": []
    },
    {
      "cell_type": "markdown",
      "metadata": {
        "id": "LpUWvpVaUprF",
        "colab_type": "text"
      },
      "source": [
        "# control flow statements\n",
        "- conditional statements\n",
        "- looping statements"
      ]
    },
    {
      "cell_type": "code",
      "metadata": {
        "id": "LYcDlpauUxSN",
        "colab_type": "code",
        "colab": {}
      },
      "source": [
        "# if - else statements\n"
      ],
      "execution_count": 0,
      "outputs": []
    },
    {
      "cell_type": "markdown",
      "metadata": {
        "id": "ddenXS3iU7gO",
        "colab_type": "text"
      },
      "source": [
        "# if - else statements\n",
        "## syntax\n",
        "# if boolean_condition\n",
        "# statements\n",
        "# else:\n",
        "# statements"
      ]
    },
    {
      "cell_type": "markdown",
      "metadata": {
        "id": "OizK3F5qU4yE",
        "colab_type": "text"
      },
      "source": [
        ""
      ]
    },
    {
      "cell_type": "code",
      "metadata": {
        "id": "Gqv22sD5VS3P",
        "colab_type": "code",
        "colab": {
          "base_uri": "https://localhost:8080/",
          "height": 51
        },
        "outputId": "87c3f18e-c9e0-4a97-f6e5-516b7ffab70a"
      },
      "source": [
        "# To check given is even or odd\n",
        "n = int(input(\"enter a number\"))\n",
        "if n%2 == 0:\n",
        "  print(n,\"is even number\")\n",
        "else:\n",
        "  print(n,\"is odd number\")\n"
      ],
      "execution_count": 23,
      "outputs": [
        {
          "output_type": "stream",
          "text": [
            "enter a number68\n",
            "68 is even number\n"
          ],
          "name": "stdout"
        }
      ]
    },
    {
      "cell_type": "code",
      "metadata": {
        "id": "0kCc78vCWGQS",
        "colab_type": "code",
        "colab": {
          "base_uri": "https://localhost:8080/",
          "height": 51
        },
        "outputId": "e7347bb5-32c6-4738-dbfb-d188ef3800a2"
      },
      "source": [
        "# to check given number is perfectly multiples of 3 and 5\n",
        "n = int(input(\"enter a number\"))\n",
        "if n%3 == 0 and n%5 == 0:\n",
        "   print(n,\"is multiples of 3 and 5\")\n",
        "else:\n",
        "   print(n,\"is not a multiple of 3 nad 5\")  "
      ],
      "execution_count": 26,
      "outputs": [
        {
          "output_type": "stream",
          "text": [
            "enter a number15\n",
            "15 is multiples of 3 and 5\n"
          ],
          "name": "stdout"
        }
      ]
    },
    {
      "cell_type": "code",
      "metadata": {
        "id": "DFx6idTyXUmG",
        "colab_type": "code",
        "colab": {
          "base_uri": "https://localhost:8080/",
          "height": 51
        },
        "outputId": "829cc658-8306-4903-bb17-9babef0371fd"
      },
      "source": [
        "# check given number is +ve or -ve or zero\n",
        "n = int(input(\"enter a number\"))\n",
        "if n>0:\n",
        "  print(n,\"is positive\")\n",
        "elif n<0:\n",
        "  print(n,\"is negative\")\n",
        "else :\n",
        "  print(n,\"is zero\")    "
      ],
      "execution_count": 28,
      "outputs": [
        {
          "output_type": "stream",
          "text": [
            "enter a number0\n",
            "0 is zero\n"
          ],
          "name": "stdout"
        }
      ]
    },
    {
      "cell_type": "code",
      "metadata": {
        "id": "Yon0WkR4Z3Fl",
        "colab_type": "code",
        "colab": {
          "base_uri": "https://localhost:8080/",
          "height": 85
        },
        "outputId": "c43d46d6-0ff0-4a73-a2ce-9dfc9df93a29"
      },
      "source": [
        "# check the greatest of three numbers\n",
        "n = int(input(\"enter a number\"))\n",
        "y = int(input(\"enter a number\"))\n",
        "z = int(input(\"enter a number\"))\n",
        "if n>y and n>z:\n",
        "  print(n,\"n is greatest\")\n",
        "elif y>z:\n",
        "  print(y,\"y is greatest\")\n",
        "else:\n",
        "  print(z,\"z is greatest\")    \n"
      ],
      "execution_count": 32,
      "outputs": [
        {
          "output_type": "stream",
          "text": [
            "enter a number78\n",
            "enter a number98\n",
            "enter a number987\n",
            "987 z is greatest\n"
          ],
          "name": "stdout"
        }
      ]
    },
    {
      "cell_type": "code",
      "metadata": {
        "id": "bn5fI6YMa0hb",
        "colab_type": "code",
        "colab": {
          "base_uri": "https://localhost:8080/",
          "height": 51
        },
        "outputId": "fbf7a1e9-5768-4732-df7d-a6f4e364b714"
      },
      "source": [
        "# find the leap year\n",
        "a = int(input(\"enter a number\"))\n",
        "if a%4 == 0 & a%100 == 0 & a%400 == 0:\n",
        "  print(a,\"is leap year\")\n",
        "else:\n",
        "  print(a,\"is not a leap year\") \n"
      ],
      "execution_count": 42,
      "outputs": [
        {
          "output_type": "stream",
          "text": [
            "enter a number2021\n",
            "2021 is not a leap year\n"
          ],
          "name": "stdout"
        }
      ]
    },
    {
      "cell_type": "code",
      "metadata": {
        "id": "mwJB2Vh5dqT0",
        "colab_type": "code",
        "colab": {}
      },
      "source": [
        ""
      ],
      "execution_count": 0,
      "outputs": []
    }
  ]
}